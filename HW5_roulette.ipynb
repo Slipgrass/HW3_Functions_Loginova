{
  "cells": [
    {
      "cell_type": "markdown",
      "metadata": {
        "id": "view-in-github",
        "colab_type": "text"
      },
      "source": [
        "<a href=\"https://colab.research.google.com/github/Slipgrass/HW3_Functions_Loginova/blob/main/HW5_roulette.ipynb\" target=\"_parent\"><img src=\"https://colab.research.google.com/assets/colab-badge.svg\" alt=\"Open In Colab\"/></a>"
      ]
    },
    {
      "cell_type": "code",
      "execution_count": null,
      "metadata": {
        "id": "rkYbYTJ9Pelc"
      },
      "outputs": [],
      "source": [
        "%matplotlib inline\n",
        "import numpy as np"
      ]
    },
    {
      "cell_type": "code",
      "execution_count": null,
      "metadata": {
        "colab": {
          "background_save": true,
          "base_uri": "https://localhost:8080/"
        },
        "id": "LScUkWJ-Pt43",
        "outputId": "7e6ae68a-e765-40a7-d84d-802f534dee1b"
      },
      "outputs": [
        {
          "name": "stdout",
          "output_type": "stream",
          "text": [
            "13\n",
            "черное\n",
            "21\n",
            "красное\n",
            "16\n",
            "красное\n",
            "4\n",
            "черное\n",
            "28\n",
            "черное\n"
          ]
        }
      ],
      "source": [
        "for i in range(0, 38):\n",
        "    a = input()\n",
        "    x = int(np.random.uniform(0, 36))\n",
        "    print(x)\n",
        "    if x == 0:\n",
        "      print(\"зеро\")\n",
        "    elif x % 2 == 0 and (12 <= x <= 18 or 30 <= x <= 36):\n",
        "        print(\"красное\")\n",
        "    elif x % 2 == 1 and (1 <= x <= 9 or 19 <= x <= 27):\n",
        "        print(\"красное\")\n",
        "    else:\n",
        "        print(\"черное\")\n",
        "\n",
        "    \n",
        "\n"
      ]
    },
    {
      "cell_type": "code",
      "execution_count": null,
      "metadata": {
        "id": "1an8vRrauwqG"
      },
      "outputs": [],
      "source": [
        "%matplotlib inline\n",
        "import numpy as np\n",
        "\n",
        "roulette = {'red': (1, 3, 5, 7, 9, 12, 14, 16, 18, 19, 21, 23, 25, 27, 30, 32,\n",
        "                    34, 36),\n",
        "           'black': (2, 4, 6, 8, 10, 11, 13, 15, 17, 20, 22, 24, 26, 28, 29, 31, \n",
        "                     33, 35),\n",
        "           'zero': (0)}\n",
        " \n",
        "a = input()\n",
        "x = int(np.random.uniform(0, 36))\n",
        "print(x)\n",
        "for key in roulette.keys():\n",
        "    if x in roulette[key]:\n",
        "        print(key)"
      ]
    },
    {
      "cell_type": "code",
      "execution_count": null,
      "metadata": {
        "colab": {
          "base_uri": "https://localhost:8080/"
        },
        "id": "7wu9owFKiISI",
        "outputId": "f0632985-a9b6-4394-e931-cdbca57473ed"
      },
      "outputs": [
        {
          "name": "stdout",
          "output_type": "stream",
          "text": [
            "\n",
            "орел\n",
            "\n",
            "орел\n",
            "\n",
            "орел\n",
            "\n",
            "решка\n",
            "\n",
            "орел\n"
          ]
        }
      ],
      "source": [
        "\n",
        "for i in range(0, 5):\n",
        "  a = input()\n",
        "  x = np.random.uniform(0, 10)\n",
        "  if x < 5:\n",
        "    print(\"орел\")\n",
        "  else:\n",
        "    print(\"решка\")"
      ]
    }
  ],
  "metadata": {
    "colab": {
      "name": "HW5_roulette.ipynb",
      "provenance": [],
      "collapsed_sections": [],
      "authorship_tag": "ABX9TyOf3z+ad2bB8ffhnoS/1MSp",
      "include_colab_link": true
    },
    "kernelspec": {
      "display_name": "Python 3",
      "name": "python3"
    },
    "language_info": {
      "name": "python"
    }
  },
  "nbformat": 4,
  "nbformat_minor": 0
}